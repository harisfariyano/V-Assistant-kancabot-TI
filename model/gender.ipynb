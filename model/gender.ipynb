{
  "cells": [
    {
      "cell_type": "code",
      "execution_count": null,
      "metadata": {
        "id": "_y0te2x5KS-I"
      },
      "outputs": [
        {
          "ename": "",
          "evalue": "",
          "output_type": "error",
          "traceback": [
            "\u001b[1;31mRunning cells with 'Python 3.9.12 ('env': venv)' requires ipykernel package.\n",
            "\u001b[1;31mRun the following command to install 'ipykernel' into the Python environment. \n",
            "\u001b[1;31mCommand: '\"d:/KULIAH/Semester 5/bigprojek/BIG/env/Scripts/python.exe\" -m pip install ipykernel -U --force-reinstall'"
          ]
        }
      ],
      "source": [
        "# Google Colab\n",
        "from google.colab import drive\n",
        "drive.mount(\"/content/gdrive\")"
      ]
    },
    {
      "cell_type": "markdown",
      "metadata": {
        "id": "SWpd5aRISNdA"
      },
      "source": [
        "## Import Library"
      ]
    },
    {
      "cell_type": "code",
      "execution_count": null,
      "metadata": {
        "id": "8qTHo2lVQ996"
      },
      "outputs": [],
      "source": [
        "import tensorflow as tf\n",
        "import numpy as np\n",
        "import pandas as pd\n",
        "import seaborn as sns\n",
        "import matplotlib.pyplot as plt\n",
        "import cv2\n",
        "import os\n",
        "import matplotlib.image as mpimg\n",
        "import glob\n",
        "import random\n",
        "\n",
        "from IPython.display import display, Javascript\n",
        "from google.colab.output import eval_js\n",
        "from base64 import b64decode\n",
        "from PIL import Image as im\n",
        "from keras.utils import load_img, img_to_array\n",
        "from google.colab import files\n",
        "from PIL import Image\n",
        "from tensorflow.keras.layers import Input , Dense , Flatten, MaxPooling2D , Conv2D, Dropout, GlobalAveragePooling2D\n",
        "from tensorflow.keras.models import Sequential\n",
        "from tensorflow.keras.utils import load_img"
      ]
    },
    {
      "cell_type": "markdown",
      "metadata": {
        "id": "2DpH8fGXSy6o"
      },
      "source": [
        "## Load Dataset"
      ]
    },
    {
      "cell_type": "code",
      "execution_count": null,
      "metadata": {
        "id": "9BmFF3e6UE5F"
      },
      "outputs": [],
      "source": [
        "# # importing the zipfile module\n",
        "# from zipfile import ZipFile\n",
        "\n",
        "# # loading the archive.zip\n",
        "# with ZipFile(\"/content/gdrive/MyDrive/JOKIAN /Gender-Classification/archive.zip\", 'r') as zObject:\n",
        "\n",
        "# # Extracting all untuk mengekstrak folder tsb\n",
        "# # lokasi yang dipilih untuk ekstrak.\n",
        "# \tzObject.extractall(\n",
        "# \t\tpath=\"/content/gdrive/MyDrive/JOKIAN /Gender-Classification/dataset\")"
      ]
    },
    {
      "cell_type": "code",
      "execution_count": null,
      "metadata": {
        "id": "u7lzpnSlX1Jt"
      },
      "outputs": [],
      "source": [
        "# Mendefinisikan direktori utama dataset\n",
        "train_dir = train_dir = '/content/gdrive/MyDrive/JOKIAN /Gender-Classification/dataset/Training/'"
      ]
    },
    {
      "cell_type": "markdown",
      "metadata": {
        "id": "9XMTaBYJYEqb"
      },
      "source": [
        "## Data Preprocessing"
      ]
    },
    {
      "cell_type": "code",
      "execution_count": null,
      "metadata": {
        "id": "Ylpe1JheYknz"
      },
      "outputs": [],
      "source": [
        "# Melihat kelas label pada folder train\n",
        "print(os.listdir(train_dir))"
      ]
    },
    {
      "cell_type": "markdown",
      "metadata": {
        "id": "mhIcxlFHdafi"
      },
      "source": [
        "Pada folder train terdapat 4 kelas image yang akan diklasifikasikan"
      ]
    },
    {
      "cell_type": "code",
      "execution_count": null,
      "metadata": {
        "id": "YqiiXs_YY8wt"
      },
      "outputs": [],
      "source": [
        "# Mengetahui banyak data train tiap kelas  \n",
        "names = []\n",
        "nums = []\n",
        "data = {'Label':[],'Jumlah Sampel':[]}\n",
        "\n",
        "for i in os.listdir(train_dir):\n",
        "    nums.append(len(os.listdir(train_dir+i)))\n",
        "    names.append(i)\n",
        "\n",
        "data['Label']+=names\n",
        "data['Jumlah Sampel']+=nums\n",
        "\n",
        "df = pd.DataFrame(data)\n",
        "df"
      ]
    },
    {
      "cell_type": "markdown",
      "metadata": {
        "id": "RBq2v3Kbam9q"
      },
      "source": [
        "## Visualization"
      ]
    },
    {
      "cell_type": "code",
      "execution_count": null,
      "metadata": {
        "id": "6Wj6yqG9Z6Wr"
      },
      "outputs": [],
      "source": [
        "# Visualisasi jumlah gambar tiap kelas\n",
        "\n",
        "plt.figure(figsize=(20,8))\n",
        "sns.barplot(x=df['Label'],y=df['Jumlah Sampel'])"
      ]
    },
    {
      "cell_type": "code",
      "execution_count": null,
      "metadata": {
        "id": "Lh5FNbnQcEZu"
      },
      "outputs": [],
      "source": [
        "# Menampilkan sampel gambar tiap kelas\n",
        "\n",
        "\n",
        "img_each_class = 1\n",
        "img_samples = {}\n",
        "classes = list(names)\n",
        "\n",
        "\n",
        "for c in classes:\n",
        "    temp = os.listdir(os.path.join(train_dir, c))[:img_each_class]\n",
        "    for item in temp:\n",
        "        img_path = os.path.join(train_dir, c, item)\n",
        "        img_samples[c] = img_path\n",
        "\n",
        "for i in img_samples:\n",
        "    fig = plt.gcf()\n",
        "    img = mpimg.imread(img_samples[i])\n",
        "    plt.title(i)\n",
        "    plt.imshow(img)\n",
        "    plt.show()"
      ]
    },
    {
      "cell_type": "markdown",
      "metadata": {
        "id": "9koafsRnee5_"
      },
      "source": [
        "Diketahui bahwa masing-masing gambar sampel dari tiap kelas hewan memiliki ukuran yang berbeda-beda"
      ]
    },
    {
      "cell_type": "markdown",
      "metadata": {
        "id": "ChwyCVtUe9u2"
      },
      "source": [
        "## Data Preparation\n",
        "\n",
        "\n"
      ]
    },
    {
      "cell_type": "markdown",
      "metadata": {
        "id": "UqqwMwdykaAQ"
      },
      "source": [
        "Setelah memahami data, selanjutnya adalah mempersiapkan data sebelum nantinya masuk ke modelling. Penyiapan ini termasuk didalamnya adalah pembagian data (split) menjadi data latih dan validasi. Pembagian data ini diperlukan sebelum nantinya digunakan untuk melatih model yang dibuat serta menghitung akurasi modelnya."
      ]
    },
    {
      "cell_type": "code",
      "execution_count": null,
      "metadata": {
        "id": "yOZ_0OGfdR-E"
      },
      "outputs": [],
      "source": [
        "# Menggunakan ImageDataGenerator untuk preprocessing\n",
        "\n",
        "\n",
        "datagen = tf.keras.preprocessing.image.ImageDataGenerator(\n",
        "          validation_split=0.3)"
      ]
    },
    {
      "cell_type": "code",
      "execution_count": null,
      "metadata": {
        "id": "scxPduY4g-dw"
      },
      "outputs": [],
      "source": [
        "# Menyiapkan data train dan data validation\n",
        "train_data = datagen.flow_from_directory(\n",
        "    train_dir,\n",
        "    class_mode='categorical',\n",
        "    subset='training',\n",
        "    target_size=(224,224),\n",
        "    batch_size=32,\n",
        "    seed=999\n",
        ")\n",
        "\n",
        "valid_data = datagen.flow_from_directory(\n",
        "    train_dir,\n",
        "    class_mode='categorical',\n",
        "    subset='validation',\n",
        "    target_size=(224,224),\n",
        "    batch_size=64,\n",
        "    seed=999\n",
        ")"
      ]
    },
    {
      "cell_type": "markdown",
      "metadata": {
        "id": "wfJtaVLvkXxl"
      },
      "source": [
        "Selain membagi data, akan diterapkan juga image augmentation. Hal ini diterapkan berdasarkan data gambar yang telah ditampilkan sebelumnya. Image augmentation yang dilakukan di sini menggunakan layer RandomFlip, RandomRotation, RandomZoom serta Rescaling pada gambar."
      ]
    },
    {
      "cell_type": "code",
      "execution_count": null,
      "metadata": {
        "id": "iti6LSB2kF3Q"
      },
      "outputs": [],
      "source": [
        "# Image Augmentation\n",
        "data_augmentation = tf.keras.Sequential(\n",
        "  [\n",
        "    tf.keras.layers.RandomFlip(\"horizontal\",input_shape=(224,224,3)),\n",
        "    tf.keras.layers.RandomRotation(0.1),\n",
        "    tf.keras.layers.RandomZoom(0.1),\n",
        "    tf.keras.layers.Rescaling(1./255)\n",
        "  ]\n",
        ")"
      ]
    },
    {
      "cell_type": "markdown",
      "metadata": {
        "id": "tPdJXpK2K-IG"
      },
      "source": [
        "Data Augmentation adalah sebuah teknik memanipulasi sebuah data tanpa kehilangan inti atau esensi dari data tersebut. Untuk data berupa Image, kita bisa lakukan rotate, flip, zoom, rescaling."
      ]
    },
    {
      "cell_type": "markdown",
      "metadata": {
        "id": "sbvBp9hHk_Bs"
      },
      "source": [
        "## Modeling"
      ]
    },
    {
      "cell_type": "code",
      "execution_count": null,
      "metadata": {
        "id": "EpUvcQlutqaQ"
      },
      "outputs": [],
      "source": [
        "path = 'D:\\KULIAH\\Semester 5\\bigprojek\\BIG\\model\\gender_model.h5'\n",
        "# model_checkpoint_callback = tf.keras.callbacks.ModelCheckpoint(\n",
        "#     filepath=checkpoint_filepath,\n",
        "#     save_weights_only=True,\n",
        "#     monitor='val_accuracy',\n",
        "#     mode='max',\n",
        "#     save_best_only=True)"
      ]
    },
    {
      "cell_type": "markdown",
      "metadata": {
        "id": "nGZLClobt6m8"
      },
      "source": [
        "**Train Model Transfer Learning MobileNet**"
      ]
    },
    {
      "cell_type": "markdown",
      "metadata": {
        "id": "7navyslrDkYh"
      },
      "source": [
        "Transfer Learning merupakan teknik yang memanfaatkan model yang sudah ditraining sebelumnya (pretrained model) untuk digunakan mengklasifikasikan dataset yang baru sehingga tidak perlu untuk melakukan training data dari awal (Tan et al. 2018), dan dilakukan penyesuaian pada bagian akhir dari model."
      ]
    },
    {
      "cell_type": "code",
      "execution_count": null,
      "metadata": {
        "id": "ZbLGGt1VOmXP"
      },
      "outputs": [],
      "source": [
        "#Training Model\n",
        "\n",
        "mobilenet = tf.keras.applications.mobilenet.MobileNet(input_shape=(224 , 224, 3),\n",
        "                                           include_top=False,\n",
        "                                           weights='imagenet')\n",
        "\n",
        "model = Sequential()\n",
        "model.add(mobilenet)\n",
        "model.add(GlobalAveragePooling2D())\n",
        "model.add(Flatten())\n",
        "model.add(Dense(1024, activation=\"relu\"))\n",
        "model.add(Dense(512, activation=\"relu\"))\n",
        "model.add(Dense(2, activation=\"softmax\" , name=\"classification\"))"
      ]
    },
    {
      "cell_type": "code",
      "execution_count": null,
      "metadata": {
        "id": "G9_VjcrAO0jW"
      },
      "outputs": [],
      "source": [
        "model.compile(optimizer=tf.keras.optimizers.SGD(learning_rate=0.0005,momentum=0.9), \n",
        "            loss='categorical_crossentropy', \n",
        "            metrics = ['accuracy'])\n",
        "\n",
        "model.summary()"
      ]
    },
    {
      "cell_type": "code",
      "execution_count": null,
      "metadata": {
        "id": "QdnYKzHXB-NF"
      },
      "outputs": [],
      "source": [
        "# load model ckpt\n",
        "model.load_weights(path)"
      ]
    },
    {
      "cell_type": "code",
      "execution_count": null,
      "metadata": {
        "id": "0r5dKlmAO2g-"
      },
      "outputs": [],
      "source": [
        "# history = model.fit(train_data , validation_data = valid_data , epochs = 3, callbacks=[model_checkpoint_callback])"
      ]
    },
    {
      "cell_type": "markdown",
      "metadata": {
        "id": "6DURCRvNniNb"
      },
      "source": [
        "**Evaluate Model**"
      ]
    },
    {
      "cell_type": "code",
      "execution_count": null,
      "metadata": {
        "id": "u_gnwp69mV42"
      },
      "outputs": [],
      "source": [
        "#evaluasi model menggunakan data validasi\n",
        "model.evaluate(valid_data)"
      ]
    },
    {
      "cell_type": "code",
      "execution_count": null,
      "metadata": {
        "id": "iF4UihTJa3B8"
      },
      "outputs": [],
      "source": [
        "model.evaluate(train_data)"
      ]
    },
    {
      "cell_type": "code",
      "execution_count": null,
      "metadata": {
        "id": "ez0eJ-QGZzS7"
      },
      "outputs": [],
      "source": [
        "# Simpan model dalam bentuk format file .h5 atau .pkl (pickle)\n",
        "model.save('gender_model.h5')\n",
        "\n",
        "print('Model Saved Successfully!')"
      ]
    },
    {
      "cell_type": "markdown",
      "metadata": {
        "id": "mCyYdgvknbfK"
      },
      "source": [
        "## Visualisasi Training dan Validasi"
      ]
    },
    {
      "cell_type": "code",
      "execution_count": null,
      "metadata": {
        "id": "DUbQkMEZKwTJ"
      },
      "outputs": [],
      "source": [
        "# plt.plot(history.history['accuracy'])\n",
        "# plt.plot(history.history['val_accuracy'])\n",
        "# plt.title('model accuracy')\n",
        "# plt.ylabel('accuracy')\n",
        "# plt.xlabel('epoch')\n",
        "# plt.legend(['train', 'val'], loc='upper left')\n",
        "# plt.show()"
      ]
    },
    {
      "cell_type": "code",
      "execution_count": null,
      "metadata": {
        "id": "jE8YP0MGMN5K"
      },
      "outputs": [],
      "source": [
        "# plt.plot(history.history['loss'])\n",
        "# plt.plot(history.history['val_loss'])\n",
        "# plt.title('model loss')\n",
        "# plt.ylabel('loss')\n",
        "# plt.xlabel('epoch')\n",
        "# plt.legend(['train', 'val'], loc='upper left')\n",
        "# plt.show()"
      ]
    },
    {
      "cell_type": "markdown",
      "metadata": {
        "id": "WAee_xfEntyN"
      },
      "source": [
        "## Uji Coba Model"
      ]
    },
    {
      "cell_type": "code",
      "execution_count": null,
      "metadata": {
        "id": "3VeOanVLnqlH"
      },
      "outputs": [],
      "source": [
        "# Menampilkan daftar kelas atau label gambar \n",
        "train_data.class_indices"
      ]
    },
    {
      "cell_type": "markdown",
      "metadata": {
        "id": "Oaa9nYakADYH"
      },
      "source": [
        "Upload Image"
      ]
    },
    {
      "cell_type": "code",
      "execution_count": null,
      "metadata": {
        "id": "rxqcwUoOn3q5"
      },
      "outputs": [],
      "source": [
        "%matplotlib inline\n",
        " \n",
        "uploaded = files.upload()\n",
        " \n",
        "for fn in uploaded.keys():\n",
        " \n",
        "  # predicting images\n",
        "  path = fn\n",
        "  img = load_img(path, target_size=(224,224))\n",
        "  imgplot = plt.imshow(img)\n",
        "  x = img_to_array(img)\n",
        "  x = np.expand_dims(x, axis=0)\n",
        " \n",
        "  images = np.vstack([x])\n",
        "  classes = model.predict(images, batch_size=50)\n",
        "  classes = np.argmax(classes)\n",
        "  \n",
        "  print(fn)\n",
        "  if classes==0:\n",
        "    print('female')\n",
        "  elif classes==1:\n",
        "    print('male')\n",
        "  else:\n",
        "    print('Tidak menemukan gender')"
      ]
    }
  ],
  "metadata": {
    "accelerator": "GPU",
    "colab": {
      "provenance": []
    },
    "gpuClass": "standard",
    "kernelspec": {
      "display_name": "Python 3.9.12 ('env': venv)",
      "language": "python",
      "name": "python3"
    },
    "language_info": {
      "name": "python",
      "version": "3.9.12"
    },
    "vscode": {
      "interpreter": {
        "hash": "0b7422d01a142d1def703005767d78102816d970865bc04b789f59783e14eb3d"
      }
    }
  },
  "nbformat": 4,
  "nbformat_minor": 0
}
